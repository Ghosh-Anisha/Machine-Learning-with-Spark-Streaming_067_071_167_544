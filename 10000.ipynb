{
 "cells": [
  {
   "cell_type": "code",
   "execution_count": 38,
   "metadata": {},
   "outputs": [],
   "source": [
    "with open(\"SGD10000.txt\", \"r\", encoding=\"utf-8\") as g:\n",
    "    data = list(map(float, g.readlines()))"
   ]
  },
  {
   "cell_type": "code",
   "execution_count": 39,
   "metadata": {},
   "outputs": [],
   "source": [
    "accuracy1=[]\n",
    "precision1=[]\n",
    "recall1=[]"
   ]
  },
  {
   "cell_type": "code",
   "execution_count": 40,
   "metadata": {},
   "outputs": [],
   "source": [
    "count=0\n",
    "for i in data:\n",
    "    if(count%3==0):\n",
    "        accuracy1.append(i)\n",
    "        count+=1\n",
    "    elif(count%3==1):\n",
    "        precision1.append(i)\n",
    "        count+=1\n",
    "    else:\n",
    "        recall1.append(i)\n",
    "        count+=1\n",
    "        "
   ]
  },
  {
   "cell_type": "code",
   "execution_count": 41,
   "metadata": {},
   "outputs": [],
   "source": [
    "with open(\"bnb10000.txt\", \"r\", encoding=\"utf-8\") as g:\n",
    "    data = list(map(float, g.readlines()))"
   ]
  },
  {
   "cell_type": "code",
   "execution_count": 42,
   "metadata": {},
   "outputs": [],
   "source": [
    "accuracy2=[]\n",
    "precision2=[]\n",
    "recall2=[]"
   ]
  },
  {
   "cell_type": "code",
   "execution_count": 43,
   "metadata": {},
   "outputs": [],
   "source": [
    "count=0\n",
    "for i in data:\n",
    "    if(count%3==0):\n",
    "        accuracy2.append(i)\n",
    "        count+=1\n",
    "    elif(count%3==1):\n",
    "        precision2.append(i)\n",
    "        count+=1\n",
    "    else:\n",
    "        recall2.append(i)\n",
    "        count+=1"
   ]
  },
  {
   "cell_type": "code",
   "execution_count": 1,
   "metadata": {},
   "outputs": [],
   "source": [
    "with open(\"mnb10000.txt\", \"r\", encoding=\"utf-8\") as g:\n",
    "    data = list(map(float, g.readlines()))"
   ]
  },
  {
   "cell_type": "code",
   "execution_count": 2,
   "metadata": {},
   "outputs": [],
   "source": [
    "accuracy3=[]\n",
    "precision3=[]\n",
    "recall3=[]"
   ]
  },
  {
   "cell_type": "code",
   "execution_count": 3,
   "metadata": {},
   "outputs": [],
   "source": [
    "count=0\n",
    "for i in data:\n",
    "    if(count%3==0):\n",
    "        accuracy3.append(i)\n",
    "        count+=1\n",
    "    elif(count%3==1):\n",
    "        precision3.append(i)\n",
    "        count+=1\n",
    "    else:\n",
    "        recall3.append(i)\n",
    "        count+=1"
   ]
  },
  {
   "cell_type": "code",
   "execution_count": 47,
   "metadata": {},
   "outputs": [],
   "source": [
    "with open(\"kmc10000.txt\", \"r\", encoding=\"utf-8\") as g:\n",
    "    data = list(map(float, g.readlines()))"
   ]
  },
  {
   "cell_type": "code",
   "execution_count": 48,
   "metadata": {},
   "outputs": [],
   "source": [
    "accuracy4=[]\n",
    "precision4=[]\n",
    "recall4=[]"
   ]
  },
  {
   "cell_type": "code",
   "execution_count": 49,
   "metadata": {},
   "outputs": [],
   "source": [
    "count=0\n",
    "for i in data:\n",
    "    if(count%3==0):\n",
    "        accuracy4.append(i)\n",
    "        count+=1\n",
    "    elif(count%3==1):\n",
    "        precision4.append(i)\n",
    "        count+=1\n",
    "    else:\n",
    "        recall4.append(i)\n",
    "        count+=1"
   ]
  },
  {
   "cell_type": "code",
   "execution_count": 63,
   "metadata": {},
   "outputs": [
    {
     "data": {
      "image/png": "[encoded data removed]",
      "text/plain": [
       "<Figure size 432x288 with 1 Axes>"
      ]
     },
     "metadata": {
      "needs_background": "light"
     },
     "output_type": "display_data"
    }
   ],
   "source": [
    "import matplotlib.pyplot as plt\n",
    "import numpy as np\n",
    "x_list= [*range(0, 80000,10000)]\n",
    "xpoints = np.array(x_list)\n",
    "ypoints1 = np.array(accuracy1)\n",
    "ypoints2= np.array(accuracy2)\n",
    "ypoints3= np.array(accuracy3)\n",
    "ypoints4= np.array(accuracy4)\n",
    "\n",
    "plt.plot(xpoints, ypoints1, color='r')\n",
    "plt.plot(xpoints, ypoints2, color='b')\n",
    "plt.plot(xpoints, ypoints3, color='g')\n",
    "plt.plot(xpoints, ypoints4, color='y')\n",
    "plt.xlabel(\"Training over 80k samples in batches of 10000 for 4 models\")\n",
    "plt.ylabel(\"Accuracy\")\n",
    "plt.legend(['sgd', 'bnb', 'mnb','kmc'])\n",
    "plt.show()"
   ]
  },
  {
   "cell_type": "code",
   "execution_count": null,
   "metadata": {},
   "outputs": [],
   "source": []
  }
 ],
 "metadata": {
  "kernelspec": {
   "display_name": "Python 3",
   "language": "python",
   "name": "python3"
  },
  "language_info": {
   "codemirror_mode": {
    "name": "ipython",
    "version": 3
   },
   "file_extension": ".py",
   "mimetype": "text/x-python",
   "name": "python",
   "nbconvert_exporter": "python",
   "pygments_lexer": "ipython3",
   "version": "3.8.3"
  }
 },
 "nbformat": 4,
 "nbformat_minor": 4
}
