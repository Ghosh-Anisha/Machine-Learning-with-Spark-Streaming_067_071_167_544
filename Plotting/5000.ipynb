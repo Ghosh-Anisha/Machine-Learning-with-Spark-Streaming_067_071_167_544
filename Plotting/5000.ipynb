{
 "cells": [
  {
   "cell_type": "code",
   "execution_count": 9,
   "metadata": {},
   "outputs": [],
   "source": [
    "with open(\"sgd5000.txt\", \"r\", encoding=\"utf-8\") as g:\n",
    "    data = list(map(float, g.readlines()))"
   ]
  },
  {
   "cell_type": "code",
   "execution_count": 10,
   "metadata": {},
   "outputs": [],
   "source": [
    "accuracy1=[]\n",
    "precision1=[]\n",
    "recall1=[]"
   ]
  },
  {
   "cell_type": "code",
   "execution_count": 11,
   "metadata": {},
   "outputs": [],
   "source": [
    "count=0\n",
    "for i in data:\n",
    "    if(count%3==0):\n",
    "        accuracy1.append(i)\n",
    "        count+=1\n",
    "    elif(count%3==1):\n",
    "        precision1.append(i)\n",
    "        count+=1\n",
    "    else:\n",
    "        recall1.append(i)\n",
    "        count+=1\n",
    "        "
   ]
  },
  {
   "cell_type": "code",
   "execution_count": 12,
   "metadata": {},
   "outputs": [],
   "source": [
    "with open(\"bnb5000.txt\", \"r\", encoding=\"utf-8\") as g:\n",
    "    data = list(map(float, g.readlines()))"
   ]
  },
  {
   "cell_type": "code",
   "execution_count": 13,
   "metadata": {},
   "outputs": [],
   "source": [
    "accuracy2=[]\n",
    "precision2=[]\n",
    "recall2=[]"
   ]
  },
  {
   "cell_type": "code",
   "execution_count": 14,
   "metadata": {},
   "outputs": [],
   "source": [
    "count=0\n",
    "for i in data:\n",
    "    if(count%3==0):\n",
    "        accuracy2.append(i)\n",
    "        count+=1\n",
    "    elif(count%3==1):\n",
    "        precision2.append(i)\n",
    "        count+=1\n",
    "    else:\n",
    "        recall2.append(i)\n",
    "        count+=1"
   ]
  },
  {
   "cell_type": "code",
   "execution_count": 15,
   "metadata": {},
   "outputs": [],
   "source": [
    "with open(\"mnb5000.txt\", \"r\", encoding=\"utf-8\") as g:\n",
    "    data = list(map(float, g.readlines()))"
   ]
  },
  {
   "cell_type": "code",
   "execution_count": 16,
   "metadata": {},
   "outputs": [],
   "source": [
    "accuracy3=[]\n",
    "precision3=[]\n",
    "recall3=[]"
   ]
  },
  {
   "cell_type": "code",
   "execution_count": 17,
   "metadata": {},
   "outputs": [],
   "source": [
    "count=0\n",
    "for i in data:\n",
    "    if(count%3==0):\n",
    "        accuracy3.append(i)\n",
    "        count+=1\n",
    "    elif(count%3==1):\n",
    "        precision3.append(i)\n",
    "        count+=1\n",
    "    else:\n",
    "        recall3.append(i)\n",
    "        count+=1"
   ]
  },
  {
   "cell_type": "code",
   "execution_count": 18,
   "metadata": {},
   "outputs": [],
   "source": [
    "with open(\"kmc5000.txt\", \"r\", encoding=\"utf-8\") as g:\n",
    "    data = list(map(float, g.readlines()))"
   ]
  },
  {
   "cell_type": "code",
   "execution_count": 19,
   "metadata": {},
   "outputs": [],
   "source": [
    "accuracy4=[]\n",
    "precision4=[]\n",
    "recall4=[]"
   ]
  },
  {
   "cell_type": "code",
   "execution_count": 20,
   "metadata": {},
   "outputs": [],
   "source": [
    "count=0\n",
    "for i in data:\n",
    "    if(count%3==0):\n",
    "        accuracy4.append(i)\n",
    "        count+=1\n",
    "    elif(count%3==1):\n",
    "        precision4.append(i)\n",
    "        count+=1\n",
    "    else:\n",
    "        recall4.append(i)\n",
    "        count+=1"
   ]
  },
  {
   "cell_type": "code",
   "execution_count": 31,
   "metadata": {},
   "outputs": [
    {
     "data": {
      "image/png": "[encoded data removed]",
      "text/plain": [
       "<Figure size 432x288 with 1 Axes>"
      ]
     },
     "metadata": {
      "needs_background": "light"
     },
     "output_type": "display_data"
    }
   ],
   "source": [
    "import numpy as np\n",
    "import matplotlib.pyplot as plt\n",
    "x_list= [*range(0, 80000,5000)]\n",
    "xpoints = np.array(x_list)\n",
    "ypoints1 = np.array(accuracy1)\n",
    "ypoints2= np.array(accuracy2)\n",
    "ypoints3= np.array(accuracy3)\n",
    "ypoints4= np.array(accuracy4)\n",
    "\n",
    "plt.plot(xpoints, ypoints1, color='r')\n",
    "plt.plot(xpoints, ypoints2, color='b')\n",
    "plt.plot(xpoints, ypoints3, color='g')\n",
    "plt.plot(xpoints, ypoints4, color='y')\n",
    "plt.xlabel(\"Training over 80k samples in batches of 5000 for 4 models\")\n",
    "plt.ylabel(\"Accuracy\")\n",
    "plt.legend(['sgd', 'bnb', 'mnb','kmc'])\n",
    "plt.show()"
   ]
  },
  {
   "cell_type": "code",
   "execution_count": null,
   "metadata": {},
   "outputs": [],
   "source": []
  }
 ],
 "metadata": {
  "kernelspec": {
   "display_name": "Python 3",
   "language": "python",
   "name": "python3"
  },
  "language_info": {
   "codemirror_mode": {
    "name": "ipython",
    "version": 3
   },
   "file_extension": ".py",
   "mimetype": "text/x-python",
   "name": "python",
   "nbconvert_exporter": "python",
   "pygments_lexer": "ipython3",
   "version": "3.8.3"
  }
 },
 "nbformat": 4,
 "nbformat_minor": 4
}
